{
 "cells": [
  {
   "cell_type": "code",
   "execution_count": 23,
   "metadata": {},
   "outputs": [],
   "source": [
    "### YOU DO NOT NEED TO CHANGE THIS CODE BLOCK ###\n",
    "\n",
    "import pandas as pd\n",
    "from sklearn.datasets import load_breast_cancer\n",
    "from sklearn.model_selection import train_test_split\n",
    "from sklearn.svm import LinearSVC\n",
    "import matplotlib.pyplot as plt\n",
    "from sklearn.metrics import ConfusionMatrixDisplay\n",
    "\n",
    "chosen_random_state = 2541\n",
    "\n",
    "data = load_breast_cancer(return_X_y=True, as_frame=True)\n",
    "\n",
    "#the first item, which has index 0 is the image data\n",
    "x = data[0]\n",
    "\n",
    "#the second item, which has index 1 is the cancer classification\n",
    "y = data[1]\n",
    "\n",
    "# benign cases (represented as 1) and malignant cases (represented as 0)\n",
    "y.replace({0:\"malignant\", 1:\"benign\"}, inplace=True)"
   ]
  },
  {
   "cell_type": "code",
   "execution_count": null,
   "metadata": {},
   "outputs": [],
   "source": []
  },
  {
   "cell_type": "markdown",
   "metadata": {},
   "source": [
    "# Activity 2: Train/test split\n",
    "\n",
    "https://scikit-learn.org/stable/modules/generated/sklearn.model_selection.train_test_split.html"
   ]
  },
  {
   "cell_type": "code",
   "execution_count": 24,
   "metadata": {},
   "outputs": [],
   "source": [
    "x_train, x_test, y_train, y_test = train_test_split( # this function splits x and y data into 4 parts. The first two are where the features, or x, are split into train and test. The second two are where the targets, or y, are split into train and test.\n",
    "                                                    x, # this is the features data \n",
    "                                                    y, # this is the target data\n",
    "                                                    test_size=0.2, # this is the percentage of data that will be sectioned off in the test set so the train set will have 80% of the data and the test set will have 20%\n",
    "                                                    shuffle = True, # this shuffles the data before splitting it\n",
    "                                                    stratify = None, # this is used to ensure that the data is split in a way that preserves the percentage of samples for each class\n",
    "                                                    random_state=chosen_random_state # this is the seed state or random state\n",
    "                                                    )"
   ]
  },
  {
   "cell_type": "code",
   "execution_count": 25,
   "metadata": {},
   "outputs": [],
   "source": [
    "### YOU DO NOT NEED TO CHANGE THIS CODE BLOCK ###\n",
    "\n",
    "linear_svc_model = LinearSVC(random_state=chosen_random_state).fit(x_train, y_train)"
   ]
  },
  {
   "cell_type": "markdown",
   "metadata": {},
   "source": [
    "# Activity 1: Model evaluation metrics\n",
    "\n",
    "- Use this source and anything else you find useful to help you answer the questions below\n",
    "\n",
    "https://www.datacamp.com/tutorial/what-is-a-confusion-matrix-in-machine-learning"
   ]
  },
  {
   "cell_type": "code",
   "execution_count": 27,
   "metadata": {},
   "outputs": [
    {
     "data": {
      "image/png": "[encoded data removed]",
      "text/plain": [
       "<Figure size 640x480 with 2 Axes>"
      ]
     },
     "metadata": {},
     "output_type": "display_data"
    }
   ],
   "source": [
    "### YOU DO NOT NEED TO CHANGE THIS CODE BLOCK ###\n",
    "\n",
    "# this is a chart of the confusion matrix\n",
    "# benign cases (represented as 1) and malignant cases (represented as 0)\n",
    "ConfusionMatrixDisplay.from_estimator(linear_svc_model, x_test, y_test)\n",
    "plt.show()"
   ]
  },
  {
   "cell_type": "markdown",
   "metadata": {},
   "source": [
    "## Q 1.1. How many...?\n",
    "\n",
    "Positive = malignant\n",
    "Negative = benign"
   ]
  },
  {
   "cell_type": "markdown",
   "metadata": {},
   "source": []
  }
 ],
 "metadata": {
  "kernelspec": {
   "display_name": ".venv",
   "language": "python",
   "name": "python3"
  },
  "language_info": {
   "codemirror_mode": {
    "name": "ipython",
    "version": 3
   },
   "file_extension": ".py",
   "mimetype": "text/x-python",
   "name": "python",
   "nbconvert_exporter": "python",
   "pygments_lexer": "ipython3",
   "version": "3.12.0"
  }
 },
 "nbformat": 4,
 "nbformat_minor": 2
}
