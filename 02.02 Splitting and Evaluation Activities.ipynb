{
 "cells": [
  {
   "cell_type": "markdown",
   "metadata": {},
   "source": [
    "# Setup"
   ]
  },
  {
   "cell_type": "code",
   "execution_count": 48,
   "metadata": {},
   "outputs": [],
   "source": [
    "import pandas as pd\n",
    "from sklearn.datasets import load_breast_cancer\n",
    "from sklearn.model_selection import train_test_split\n",
    "from sklearn.svm import LinearSVC\n",
    "import matplotlib.pyplot as plt\n",
    "from sklearn.metrics import ConfusionMatrixDisplay"
   ]
  },
  {
   "cell_type": "code",
   "execution_count": 49,
   "metadata": {},
   "outputs": [],
   "source": [
    "### YOU DO NOT NEED TO CHANGE THIS CODE BLOCK ###\n",
    "\n",
    "data = load_breast_cancer(return_X_y=True, as_frame=True)\n",
    "\n",
    "#the first item, which has index 0 is the image data\n",
    "x = data[0]\n",
    "\n",
    "#the second item, which has index 1 is the cancer classification\n",
    "y = data[1]\n",
    "\n",
    "# benign cases (represented as 1) and malignant cases (represented as 0)\n",
    "y.replace({0:\"cancerous\", 1:\"non-cancerous\"}, inplace=True)"
   ]
  },
  {
   "cell_type": "code",
   "execution_count": 50,
   "metadata": {},
   "outputs": [],
   "source": [
    "### YOU DO NOT NEED TO CHANGE THIS CODE BLOCK ###\n",
    "\n",
    "def run_model(x, y, test_size, shuffle, stratify, random_state):\n",
    "\n",
    "    # data split\n",
    "    x_train, x_test, y_train, y_test = train_test_split(x, y, test_size=test_size, shuffle = shuffle, stratify = stratify, random_state=random_state)\n",
    "\n",
    "    # train model\n",
    "    linear_svc_model = LinearSVC(random_state=2541).fit(x_train, y_train)\n",
    "\n",
    "    # evaluate model using test data\n",
    "\n",
    "    # this is a chart of the confusion matrix\n",
    "    print(f\"\"\"\n",
    "          test_size: {test_size}\n",
    "          shuffle: {shuffle}\n",
    "          stratify: {stratify if type(stratify)==type(None) else \"stratified\"}\n",
    "          random_state: {random_state}\n",
    "          \"\"\")\n",
    "    ConfusionMatrixDisplay.from_estimator(linear_svc_model, x_test, y_test)\n",
    "    plt.show()\n",
    "\n",
    "    return x_train, x_test, y_train, y_test, linear_svc_model"
   ]
  },
  {
   "cell_type": "markdown",
   "metadata": {},
   "source": [
    "type(None)"
   ]
  },
  {
   "cell_type": "markdown",
   "metadata": {},
   "source": [
    "# Activity 0: Model evaluation confusion matrix\n",
    "\n",
    "- Run the whole notebook (Run All button at the top of VS Code)\n",
    "- Copy and paste the confusion matrix in the chat"
   ]
  },
  {
   "cell_type": "code",
   "execution_count": 56,
   "metadata": {},
   "outputs": [
    {
     "name": "stdout",
     "output_type": "stream",
     "text": [
      "\n",
      "          test_size: 0.2\n",
      "          shuffle: True\n",
      "          stratify: None\n",
      "          random_state: 2541\n",
      "          \n"
     ]
    },
    {
     "data": {
      "image/png": "[encoded data removed]",
      "text/plain": [
       "<Figure size 640x480 with 2 Axes>"
      ]
     },
     "metadata": {},
     "output_type": "display_data"
    }
   ],
   "source": [
    "### YOU DO NOT NEED TO CHANGE THIS CODE BLOCK ###\n",
    "\n",
    "x_train, x_test, y_train, y_test, linear_svc_model = run_model(x, y, test_size=0.2, shuffle=True, stratify=None, random_state=2541)"
   ]
  },
  {
   "cell_type": "markdown",
   "metadata": {},
   "source": [
    "# Activity 1: Model evaluation metrics\n",
    "\n",
    "- Answer the questions below on the confusion matrix that was outputted in Activity 0\n",
    "- Use this source to help you https://www.datacamp.com/tutorial/what-is-a-confusion-matrix-in-machine-learning\n",
    "- Use any other sources to help you, please includes them as references"
   ]
  },
  {
   "cell_type": "markdown",
   "metadata": {},
   "source": [
    "## Q 1.1. How many...? Please complete the value column\n",
    "\n",
    "Positive = cancerous\n",
    "\n",
    "Negative = non-cancerous"
   ]
  },
  {
   "cell_type": "markdown",
   "metadata": {},
   "source": [
    "### !!! ENTER YOUR ANSWER HERE FOR Q 1.1.\n",
    "\n",
    "| Metric | Actual | Predicted | Value |\n",
    "| ------ | ------ | --------- | ----- |\n",
    "| True Positive (TP)  | + | + | ENTER VALUE HERE |\n",
    "| True Negative (TN)  | - | - | ENTER VALUE HERE |\n",
    "| False Positive (FP) | - | + | ENTER VALUE HERE |\n",
    "| False Negative (FN) | + | - | ENTER VALUE HERE |"
   ]
  },
  {
   "cell_type": "markdown",
   "metadata": {},
   "source": [
    "## Q 1.2. Calculate... Please complete the value column\n",
    "\n",
    "These equations may help you:\n",
    "\n",
    "![Model evaluation metrics](images/Model_evaluation_metrics.png)"
   ]
  },
  {
   "cell_type": "markdown",
   "metadata": {},
   "source": [
    "### !!! ENTER YOUR ANSWER HERE FOR Q 1.2.\n",
    "\n",
    "| Metric |  Value |\n",
    "| ------ |  ----- |\n",
    "| Accuracy    | ENTER VALUE HERE |\n",
    "| Recall      | ENTER VALUE HERE |\n",
    "| Precision   | ENTER VALUE HERE |\n",
    "| Specificity | ENTER VALUE HERE |\n",
    "| F1 Score    | ENTER VALUE HERE |"
   ]
  },
  {
   "cell_type": "markdown",
   "metadata": {},
   "source": [
    "## Q 1.3. Which metric is the most appropriate to maximise for this use case? Why?\n",
    "\n",
    "Choose one: Why?\n",
    "- Accuracy\n",
    "- Recall\n",
    "- Precision \n",
    "- Specificity\n",
    "- F1 Score"
   ]
  },
  {
   "cell_type": "markdown",
   "metadata": {},
   "source": [
    "### !!! ENTER YOUR ANSWER HERE FOR Q 1.3."
   ]
  },
  {
   "cell_type": "markdown",
   "metadata": {},
   "source": [
    "## Q 1.4. Choose one classification metric that we have not covered yet from this list\n",
    "\n",
    "https://scikit-learn.org/stable/api/sklearn.metrics.html  e.g. hamming loss, roc_curve, auc or cohen_kappa_score\n",
    "\n",
    "- How is the metric calculated?\n",
    "- In which circumstances would we use this metric over the 5 metrics we have already looked at in Q 1.2.?"
   ]
  },
  {
   "cell_type": "markdown",
   "metadata": {},
   "source": [
    "### !!! ENTER YOUR ANSWER HERE FOR Q 1.4."
   ]
  },
  {
   "cell_type": "markdown",
   "metadata": {},
   "source": [
    "# Activity 2: Train/test split\n",
    "\n",
    "The parameters for scikit-learn's train/test split can be seen on the documentation https://scikit-learn.org/stable/modules/generated/sklearn.model_selection.train_test_split.html"
   ]
  },
  {
   "cell_type": "code",
   "execution_count": 52,
   "metadata": {},
   "outputs": [],
   "source": [
    "# x_train, x_test, y_train, y_test = train_test_split( # this function splits x and y data into 4 parts. The first two are where the features, or x, are split into train and test. The second two are where the targets, or y, are split into train and test.\n",
    "#                                                     x, # this is the features data \n",
    "#                                                     y, # this is the target data\n",
    "#                                                     test_size=0.2, # this is the percentage of data that will be sectioned off in the test set so the train set will have 80% of the data and the test set will have 20%\n",
    "#                                                     shuffle = True, # this shuffles the data before splitting it\n",
    "#                                                     stratify = None, # this is used to ensure that the data is split in a way that preserves the percentage of samples for each class\n",
    "#                                                     random_state=chosen_random_state # this is the seed state or random state\n",
    "#                                                     )"
   ]
  },
  {
   "cell_type": "markdown",
   "metadata": {},
   "source": [
    "## Q 2.1. Run the code below and comment on what happens when random_state changes when shuffle=True\n",
    "\n",
    "These sources may be helpful:\n",
    "\n",
    "a) https://www.geeksforgeeks.org/pseudo-random-number-generator-prng/\n",
    "\n",
    "b) https://www.geeksforgeeks.org/what-is-scikit-learn-random-state-in-splitting-dataset/\n",
    "\n",
    "c) https://www.geeksforgeeks.org/how-to-split-the-dataset-with-scikit-learns-train_test_split-function/"
   ]
  },
  {
   "cell_type": "markdown",
   "metadata": {},
   "source": [
    "### !!! ENTER YOUR ANSWER HERE FOR Q 2.1.\n",
    "\n",
    "**Answer the following questions**:\n",
    "\n",
    "- What happens to confusion matrices when the random_state changes?\n",
    "- Why?\n",
    "- What is best practice regarding random_state?"
   ]
  },
  {
   "cell_type": "code",
   "execution_count": 58,
   "metadata": {},
   "outputs": [],
   "source": [
    "### Remove the hashes next to the code to run it\n",
    "\n",
    "# x_train, x_test, y_train, y_test, linear_svc_model = run_model(x, y, test_size=0.2, shuffle=True, stratify=None, random_state=2541)\n",
    "\n",
    "# x_train, x_test, y_train, y_test, linear_svc_model = run_model(x, y, test_size=0.2, shuffle=True, stratify=None, random_state=600)\n",
    "\n",
    "# x_train, x_test, y_train, y_test, linear_svc_model = run_model(x, y, test_size=0.2, shuffle=True, stratify=None, random_state=999)"
   ]
  },
  {
   "cell_type": "markdown",
   "metadata": {},
   "source": [
    "## Q 2.2. Run the code below and comment on what happens when random_state changes when shuffle=False"
   ]
  },
  {
   "cell_type": "markdown",
   "metadata": {},
   "source": [
    "### !!! ENTER YOUR ANSWER HERE FOR Q 2.2.\n",
    "\n",
    "**Answer the following questions**:\n",
    "\n",
    "- What happens to confusion matrices when the random_state changes?\n",
    "- Why?"
   ]
  },
  {
   "cell_type": "code",
   "execution_count": 60,
   "metadata": {},
   "outputs": [],
   "source": [
    "### Remove the hashes next to the code to run it\n",
    "\n",
    "# x_train, x_test, y_train, y_test, linear_svc_model = run_model(x, y, test_size=0.2, shuffle=False, stratify=None, random_state=2541)\n",
    "\n",
    "# x_train, x_test, y_train, y_test, linear_svc_model = run_model(x, y, test_size=0.2, shuffle=False, stratify=None, random_state=600)\n",
    "\n",
    "# x_train, x_test, y_train, y_test, linear_svc_model = run_model(x, y, test_size=0.2, shuffle=False, stratify=None, random_state=999)"
   ]
  },
  {
   "cell_type": "markdown",
   "metadata": {},
   "source": [
    "## Q 2.3. Run the code below and comment on what happens when shuffle changes\n",
    "\n",
    "This source may be helpful:\n",
    "\n",
    "a) https://www.geeksforgeeks.org/how-to-split-the-dataset-with-scikit-learns-train_test_split-function/"
   ]
  },
  {
   "cell_type": "markdown",
   "metadata": {},
   "source": [
    "### !!! ENTER YOUR ANSWER HERE FOR Q 2.3.\n",
    "\n",
    "**Answer the following questions**:\n",
    "\n",
    "- What happens to confusion matrices when shuffle changes?\n",
    "- Why?\n",
    "- When is using shuffle a good idea?"
   ]
  },
  {
   "cell_type": "code",
   "execution_count": 62,
   "metadata": {},
   "outputs": [],
   "source": [
    "### Remove the hashes next to the code to run it\n",
    "\n",
    "# x_train, x_test, y_train, y_test, linear_svc_model = run_model(x, y, test_size=0.2, shuffle=True, stratify=None, random_state=2541)\n",
    "\n",
    "# x_train, x_test, y_train, y_test, linear_svc_model = run_model(x, y, test_size=0.2, shuffle=False, stratify=None, random_state=2541)"
   ]
  },
  {
   "cell_type": "markdown",
   "metadata": {},
   "source": [
    "## Q 2.4. Run the code below and comment on what happens when stratify changes\n",
    "\n",
    "This source may be helpful:\n",
    "\n",
    "a) https://www.youtube.com/watch?v=Zcjl8xPLmPw (First 17 seconds)\n",
    "\n",
    "b) https://www.cl.cam.ac.uk/teaching/2021/DataSciII/DSPNP3_QA_ML.pdf (first question)"
   ]
  },
  {
   "cell_type": "markdown",
   "metadata": {},
   "source": [
    "### !!! ENTER YOUR ANSWER HERE FOR Q 2.4.\n",
    "\n",
    "**Answer the following questions**:\n",
    "\n",
    "- What happens to confusion matrices when stratify changes?\n",
    "- Why?\n",
    "- When is using stratification a good idea?"
   ]
  },
  {
   "cell_type": "code",
   "execution_count": null,
   "metadata": {},
   "outputs": [
    {
     "name": "stdout",
     "output_type": "stream",
     "text": [
      "\n",
      "          test_size: 0.2\n",
      "          shuffle: True\n",
      "          stratify: None\n",
      "          random_state: 2541\n",
      "          \n"
     ]
    },
    {
     "data": {
      "image/png": "[encoded data removed]",
      "text/plain": [
       "<Figure size 640x480 with 2 Axes>"
      ]
     },
     "metadata": {},
     "output_type": "display_data"
    },
    {
     "name": "stdout",
     "output_type": "stream",
     "text": [
      "\n",
      "          test_size: 0.2\n",
      "          shuffle: True\n",
      "          stratify: stratified\n",
      "          random_state: 2541\n",
      "          \n"
     ]
    },
    {
     "data": {
      "image/png": "[encoded data removed]",
      "text/plain": [
       "<Figure size 640x480 with 2 Axes>"
      ]
     },
     "metadata": {},
     "output_type": "display_data"
    }
   ],
   "source": [
    "### Remove the hashes next to the code to run it\n",
    "\n",
    "# x_train, x_test, y_train, y_test, linear_svc_model = run_model(x, y, test_size=0.2, shuffle=True, stratify=None, random_state=2541)\n",
    "\n",
    "# x_train, x_test, y_train, y_test, linear_svc_model = run_model(x, y, test_size=0.2, shuffle=True, stratify=y, random_state=2541)"
   ]
  },
  {
   "cell_type": "markdown",
   "metadata": {},
   "source": [
    "# END OF FILE"
   ]
  }
 ],
 "metadata": {
  "kernelspec": {
   "display_name": ".venv",
   "language": "python",
   "name": "python3"
  },
  "language_info": {
   "codemirror_mode": {
    "name": "ipython",
    "version": 3
   },
   "file_extension": ".py",
   "mimetype": "text/x-python",
   "name": "python",
   "nbconvert_exporter": "python",
   "pygments_lexer": "ipython3",
   "version": "3.12.0"
  }
 },
 "nbformat": 4,
 "nbformat_minor": 2
}
