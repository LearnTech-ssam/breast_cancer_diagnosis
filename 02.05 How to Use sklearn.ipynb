{
 "cells": [
  {
   "cell_type": "markdown",
   "metadata": {},
   "source": [
    "# 1. Install sklearn\n",
    "\n",
    "- See this website https://scikit-learn.org/stable/install.html. Usually `pip install scikit-learn`\n",
    "\n",
    "- All sub-packages and modules are listed on this website on the left hand side under \"Section Navigation\": https://scikit-learn.org/stable/api/index.html\n",
    "\n",
    "# 2. Load in relevant sklearn modules\n",
    "\n",
    "You can either do this by:\n",
    "\n",
    "- a) loading in the whole package of sklearn using `import sklearn`. Be careful as sklearn is a large package\n",
    "\n",
    "- b) or just import sub-packages such as `from sklearn import metrics`\n",
    "\n",
    "- c) or individual modules such as `from sklearn.metrics import confusion_matrix`\n",
    "\n",
    "More information on pros and cons of each can be found here https://discuss.python.org/t/what-is-the-purpose-of-importing-a-package-alone/18433/3\n",
    "\n",
    "For this exploratory purpose of playing with sklearn, we will load the whole package so option a)."
   ]
  },
  {
   "cell_type": "code",
   "execution_count": 2,
   "metadata": {},
   "outputs": [],
   "source": [
    "import sklearn"
   ]
  },
  {
   "cell_type": "markdown",
   "metadata": {},
   "source": [
    "# 3. Load data and clean to be in expected format for algorithm\n",
    "\n",
    "For the purposes of this example, we will use the breast cancer data. This can be downloaded from a sklearn sub-package called `sklearn.datasets` where there are multiple datasets to choose from. Ours is called `load_breast_cancer`.\n",
    "\n",
    "Usually for a binary classification, you need your data in the structure of X or x and y. For example, for LinearSVC, it requires you to have the data in the format of:\n",
    "\n",
    ">X: {array-like, sparse matrix} of shape (n_samples, n_features)\n",
    ">    Training vector, where n_samples is the number of samples and n_features is the number of features.\n",
    ">\n",
    ">\n",
    ">y: array-like of shape (n_samples,)\n",
    ">    Target vector relative to X.\n",
    "\n",
    "Source: https://scikit-learn.org/stable/modules/generated/sklearn.svm.LinearSVC.html#sklearn.svm.LinearSVC.fit\n",
    "\n",
    "For example, pandas DataFrame/Series or numpy array is usually fine."
   ]
  },
  {
   "cell_type": "code",
   "execution_count": 4,
   "metadata": {},
   "outputs": [],
   "source": [
    "data = sklearn.datasets.load_breast_cancer(return_X_y=True, as_frame=True)\n",
    "\n",
    "#the first item, which has index 0 is the image data\n",
    "x = data[0]\n",
    "\n",
    "#the second item, which has index 1 is the cancer classification\n",
    "y = data[1]\n",
    "\n",
    "# normally for binary classification: the positive case, also known as 1, is that something exists, e.g. has cancer.\n",
    "# then the negative case, also known as 0, is that something does not exist, e.g. does not have cancer.\n",
    "# however, in this dataset, it is reversed.\n",
    "# this makes this unintuitive and confusion to work with, so we will reverse it.\n",
    "# benign cases aka non-cancerous (represented as 1) and malignant aka cancerous cases (represented as 0)\n",
    "y.replace({0:1, 1:0}, inplace=True)"
   ]
  },
  {
   "cell_type": "markdown",
   "metadata": {},
   "source": [
    "# 4. Train/test split"
   ]
  },
  {
   "cell_type": "code",
   "execution_count": null,
   "metadata": {},
   "outputs": [],
   "source": [
    "chosen_random_state = 4627\n",
    "\n",
    "# data split\n",
    "x_train, x_test, y_train, y_test = sklearn.model_selection.train_test_split( # this function splits x and y data into 4 parts. The first two are where the features, or x, are split into train and test. The second two are where the targets, or y, are split into train and test.\n",
    "                                                    x, # this is the features data \n",
    "                                                    y, # this is the target data\n",
    "                                                    test_size=0.2, # this is the percentage of data that will be sectioned off in the test set so the train set will have 80% of the data and the test set will have 20%\n",
    "                                                    shuffle = True, # this shuffles the data before splitting it\n",
    "                                                    stratify = None, # this is used to ensure that the data is split in a way that preserves the percentage of samples for each class\n",
    "                                                    random_state=chosen_random_state # this is the seed state or random state\n",
    "                                                    )"
   ]
  },
  {
   "cell_type": "markdown",
   "metadata": {},
   "source": [
    "# 5. Choose your algorithm"
   ]
  },
  {
   "cell_type": "markdown",
   "metadata": {},
   "source": [
    "\n",
    "# train model\n",
    "linear_svc_model = LinearSVC(random_state=2541).fit(x_train, y_train)\n",
    "\n",
    "# evaluate model using test data\n",
    "\n",
    "# this is a chart of the confusion matrix\n",
    "print(f\"\"\"\n",
    "        test_size: {test_size}\n",
    "        shuffle: {shuffle}\n",
    "        stratify: {stratify if type(stratify)==type(None) else \"stratified\"}\n",
    "        random_state: {random_state}\n",
    "        \"\"\")\n",
    "ConfusionMatrixDisplay.from_estimator(linear_svc_model, x_test, y_test)\n",
    "plt.show()\n",
    "\n",
    "return x_train, x_test, y_train, y_test, linear_svc_model"
   ]
  }
 ],
 "metadata": {
  "kernelspec": {
   "display_name": ".venv",
   "language": "python",
   "name": "python3"
  },
  "language_info": {
   "codemirror_mode": {
    "name": "ipython",
    "version": 3
   },
   "file_extension": ".py",
   "mimetype": "text/x-python",
   "name": "python",
   "nbconvert_exporter": "python",
   "pygments_lexer": "ipython3",
   "version": "3.12.0"
  }
 },
 "nbformat": 4,
 "nbformat_minor": 2
}
